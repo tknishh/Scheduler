{
 "cells": [
  {
   "cell_type": "code",
   "execution_count": 20,
   "metadata": {},
   "outputs": [],
   "source": [
    "def selectYear():\n",
    "    year = ['1st','2nd','3rd','4th']\n",
    "    y = input()\n",
    "    year.remove(y)\n",
    "\n",
    "def selectBranch():\n",
    "    year = ['CSE','ECE','MEC','CE','CIV']\n",
    "    y = input()\n",
    "    year.remove(y)\n",
    "\n",
    "def dividing_batches():\n",
    "    total_students = int(input('Total students: '))\n",
    "    total_batches = int(input('Total batches: '))\n",
    "    a = split(total_students, total_batches)\n",
    "\n",
    "def split(x, n):\n",
    "    a=[]\n",
    "    if(x < n):\n",
    "        a.append(-1)\n",
    "    elif (x % n == 0):\n",
    "        for i in range(n):\n",
    "            a.append(x//n)\n",
    "    else:\n",
    "        zp = n - (x % n)\n",
    "        pp = x//n\n",
    "        for i in range(n):\n",
    "            if(i>= zp):\n",
    "                a.append(pp + 1)\n",
    "            else:\n",
    "                a.append(pp)\n",
    "    return a\n",
    "\n",
    "def groupBatches():\n",
    "    n = int(input('Number of batches together: '))\n",
    "    comb_batches = len(a)//n\n"
   ]
  }
 ],
 "metadata": {
  "interpreter": {
   "hash": "cc244c1a0604a6e554e17e271005ac1b0968c437fdb25ba00f9c0ba8105e7d3d"
  },
  "kernelspec": {
   "display_name": "Python 3.10.2 64-bit",
   "language": "python",
   "name": "python3"
  },
  "language_info": {
   "codemirror_mode": {
    "name": "ipython",
    "version": 3
   },
   "file_extension": ".py",
   "mimetype": "text/x-python",
   "name": "python",
   "nbconvert_exporter": "python",
   "pygments_lexer": "ipython3",
   "version": "3.10.2"
  },
  "orig_nbformat": 4
 },
 "nbformat": 4,
 "nbformat_minor": 2
}
